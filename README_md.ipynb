{
  "nbformat": 4,
  "nbformat_minor": 0,
  "metadata": {
    "colab": {
      "provenance": []
    },
    "kernelspec": {
      "name": "python3",
      "display_name": "Python 3"
    },
    "language_info": {
      "name": "python"
    }
  },
  "cells": [
    {
      "cell_type": "markdown",
      "source": [
        "#Bike Share Dashboard ✨"
      ],
      "metadata": {
        "id": "4vxqGnc24JV2"
      }
    },
    {
      "cell_type": "markdown",
      "source": [
        "##Setup bike"
      ],
      "metadata": {
        "id": "jaHoy7LS4Tz2"
      }
    },
    {
      "cell_type": "code",
      "source": [
        "conda create --name main-ds python=3.9\n",
        "conda activate main-ds\n",
        "pip install numpy pandas scipy matplotlib seaborn jupyter streamlit babel"
      ],
      "metadata": {
        "id": "ar-UuHS25DOb"
      },
      "execution_count": null,
      "outputs": []
    },
    {
      "cell_type": "markdown",
      "source": [
        "##Run steamlit app"
      ],
      "metadata": {
        "id": "OiA79bTA6Jjx"
      }
    },
    {
      "cell_type": "code",
      "source": [
        "streamlit run dashboard.py"
      ],
      "metadata": {
        "id": "BBW_F7Pi6Pii"
      },
      "execution_count": null,
      "outputs": []
    }
  ]
}