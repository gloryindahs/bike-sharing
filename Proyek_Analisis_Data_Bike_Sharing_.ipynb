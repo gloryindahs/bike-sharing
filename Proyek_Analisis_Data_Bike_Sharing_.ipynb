{
  "cells": [
    {
      "cell_type": "markdown",
      "metadata": {
        "id": "H9wADwK78DCz"
      },
      "source": [
        "# Proyek Analisis Data: [Input Nama Dataset]\n",
        "- **Nama:** Glory Indah Situmorang\n",
        "- **Email:** gloryindahsitumorang@gmailcom\n",
        "- **ID Dicoding:** glory_indah"
      ]
    },
    {
      "cell_type": "markdown",
      "metadata": {
        "id": "eE0raob58DC0"
      },
      "source": [
        "## Menentukan Pertanyaan Bisnis"
      ]
    },
    {
      "cell_type": "markdown",
      "metadata": {
        "id": "GmQeQ5YF8DC0"
      },
      "source": [
        "- Berapa jumlah sewa sepeda setiap hari bila ditinjau berdasarkan faktor musim dan lingkungan (cuaca,suhu,suhu terasa) ?\n",
        "- Bagaimana kolerasi antara jumlah sepeda sewaan dengan suhu, kelembaban dan kecepatan angin?"
      ]
    },
    {
      "cell_type": "markdown",
      "metadata": {
        "id": "H-z4QGlO8DC1"
      },
      "source": [
        "## Import Semua Packages/Library yang Digunakan"
      ]
    },
    {
      "cell_type": "code",
      "execution_count": 97,
      "metadata": {
        "id": "FVYwaObI8DC1"
      },
      "outputs": [],
      "source": [
        "import numpy as np\n",
        "import pandas as pd\n",
        "import matplotlib.pyplot as plt\n",
        "import seaborn as sns"
      ]
    },
    {
      "cell_type": "markdown",
      "metadata": {
        "id": "h_Sh51Xy8DC1"
      },
      "source": [
        "## Data Wrangling"
      ]
    },
    {
      "cell_type": "markdown",
      "metadata": {
        "id": "sXU2GBYu8DC1"
      },
      "source": [
        "### Gathering Data"
      ]
    },
    {
      "cell_type": "code",
      "execution_count": null,
      "metadata": {
        "id": "zjCBk1BI8DC1"
      },
      "outputs": [],
      "source": [
        "day_df = pd.read_csv(\"https://raw.githubusercontent.com/gloryindahs/bike-sharing/main/day.csv\")\n",
        "day_df.head()"
      ]
    },
    {
      "cell_type": "markdown",
      "metadata": {
        "id": "FHSiqaZp8DC1"
      },
      "source": [
        "### Assessing Data"
      ]
    },
    {
      "cell_type": "markdown",
      "source": [
        "Menilai tabel **day_df**"
      ],
      "metadata": {
        "id": "tZBZYxGKvrq7"
      }
    },
    {
      "cell_type": "code",
      "source": [
        "day_df.info()"
      ],
      "metadata": {
        "id": "ax-3tEjc9Cj1"
      },
      "execution_count": null,
      "outputs": []
    },
    {
      "cell_type": "code",
      "source": [
        "day_df.nunique()"
      ],
      "metadata": {
        "colab": {
          "base_uri": "https://localhost:8080/"
        },
        "id": "aPa9IVeWwFUr",
        "outputId": "188b84ba-6e6f-47b0-98b2-faecbd456c44"
      },
      "execution_count": 104,
      "outputs": [
        {
          "output_type": "execute_result",
          "data": {
            "text/plain": [
              "instant       731\n",
              "dteday        731\n",
              "season          4\n",
              "yr              2\n",
              "mnth           12\n",
              "holiday         2\n",
              "weekday         7\n",
              "workingday      2\n",
              "weathersit      3\n",
              "temp          499\n",
              "atemp         690\n",
              "hum           595\n",
              "windspeed     650\n",
              "casual        606\n",
              "registered    679\n",
              "cnt           696\n",
              "dtype: int64"
            ]
          },
          "metadata": {},
          "execution_count": 104
        }
      ]
    },
    {
      "cell_type": "code",
      "source": [
        "print(\"Jumlah duplikasi: \",day_df.duplicated().sum())\n",
        "day_df.describe()"
      ],
      "metadata": {
        "id": "2GA2KRDXwd-6"
      },
      "execution_count": null,
      "outputs": []
    },
    {
      "cell_type": "markdown",
      "metadata": {
        "id": "EhN5R4hr8DC1"
      },
      "source": [
        "### Cleaning Data"
      ]
    },
    {
      "cell_type": "code",
      "source": [],
      "metadata": {
        "id": "jVnYpprE9Evz"
      },
      "execution_count": null,
      "outputs": []
    },
    {
      "cell_type": "markdown",
      "metadata": {
        "id": "gp-Y6wU38DC1"
      },
      "source": [
        "## Exploratory Data Analysis (EDA)"
      ]
    },
    {
      "cell_type": "markdown",
      "metadata": {
        "id": "MW7WF2kr8DC1"
      },
      "source": [
        "### Explore day_df"
      ]
    },
    {
      "cell_type": "code",
      "execution_count": null,
      "metadata": {
        "id": "e9CQCZjk8DC2"
      },
      "outputs": [],
      "source": [
        "day_df.sample(5)"
      ]
    },
    {
      "cell_type": "code",
      "source": [
        "day_df.describe(include=\"all\")"
      ],
      "metadata": {
        "id": "QdDVqMMIyXb2"
      },
      "execution_count": null,
      "outputs": []
    },
    {
      "cell_type": "code",
      "source": [
        "season_mapping = {1: 'Springer', 2: 'Summer', 3: 'Fall', 4: 'Winter'}\n",
        "result_df = day_df.groupby(by=\"season\").mean()['cnt'].sort_values(ascending=False).reset_index(drop=False)\n",
        "result_df['season'] = result_df['season'].map(season_mapping)\n",
        "print(result_df)"
      ],
      "metadata": {
        "id": "TzK6UmuC_GLx"
      },
      "execution_count": null,
      "outputs": []
    },
    {
      "cell_type": "code",
      "source": [
        "day_df.groupby(by=\"weathersit\").mean()['cnt'].sort_values(ascending=False).reset_index(drop=False)"
      ],
      "metadata": {
        "id": "31M4J2ePD5T7"
      },
      "execution_count": null,
      "outputs": []
    },
    {
      "cell_type": "code",
      "source": [
        "day_df.groupby(by=\"temp\").mean()['cnt'].sort_values(ascending=False).reset_index(drop=False)"
      ],
      "metadata": {
        "id": "GLTjHSj-Hzva"
      },
      "execution_count": null,
      "outputs": []
    },
    {
      "cell_type": "code",
      "source": [
        "day_df.groupby(by=\"atemp\").mean()['cnt'].sort_values(ascending=False).reset_index(drop=False)"
      ],
      "metadata": {
        "id": "T77_rELnINei"
      },
      "execution_count": null,
      "outputs": []
    },
    {
      "cell_type": "markdown",
      "metadata": {
        "id": "zsyZjqak8DC2"
      },
      "source": [
        "## Visualization & Explanatory Analysis"
      ]
    },
    {
      "cell_type": "markdown",
      "metadata": {
        "id": "HZxOiQ6n8DC2"
      },
      "source": [
        "### Pertanyaan 1: Berapa jumlah sewa sepeda setiap harian bila ditinjau berdasarkan faktor musim dan lingkungan (cuaca,suhu,suhu terasa) ?"
      ]
    },
    {
      "cell_type": "code",
      "source": [
        "plt.figure(figsize=(10, 6))\n",
        "sns.barplot(x='season', y='cnt', data=result_df, palette=\"Blues_d\")\n",
        "plt.title('Rata-rata Jumlah Sewa Sepeda Berdasarkan Musim')\n",
        "plt.xlabel('Musim')\n",
        "plt.ylabel('Rata-rata Jumlah Sepeda')\n",
        "plt.show()"
      ],
      "metadata": {
        "id": "1ltsvfLGJsPy"
      },
      "execution_count": null,
      "outputs": []
    },
    {
      "cell_type": "code",
      "source": [
        "plt.figure(figsize=(10, 6))\n",
        "sns.barplot(x='weathersit', y='cnt', data=day_df, palette=\"Blues_d\")\n",
        "plt.title('Rata-rata Jumlah Sewa Sepeda Berdasarkan Kondisi Cuaca')\n",
        "plt.xlabel('Kondisi Cuaca')\n",
        "plt.ylabel('Rata-rata Jumlah Sepeda')\n",
        "plt.show()"
      ],
      "metadata": {
        "id": "azfCaTcaLXrw"
      },
      "execution_count": null,
      "outputs": []
    },
    {
      "cell_type": "code",
      "source": [
        "sample_df = day_df.sample(10)\n",
        "plt.figure(figsize=(10, 6))\n",
        "sns.barplot(x='temp', y='cnt', data=sample_df, palette=\"Blues_d\")\n",
        "plt.title('Rata-rata Jumlah Sewa Sepeda Berdasarkan Suhu')\n",
        "plt.xlabel('Suhu')\n",
        "plt.ylabel('Rata-rata Jumlah Sepeda')\n",
        "plt.show()"
      ],
      "metadata": {
        "id": "FgKdeD4BMLI2"
      },
      "execution_count": null,
      "outputs": []
    },
    {
      "cell_type": "code",
      "source": [
        "sample_df = day_df.sample(10)\n",
        "plt.figure(figsize=(10, 6))\n",
        "sns.barplot(x='atemp', y='cnt', data=sample_df, palette=\"Blues_d\")\n",
        "plt.title('Rata-rata Jumlah Sewa Sepeda Berdasarkan Suhu Terasa')\n",
        "plt.xlabel('Suhu')\n",
        "plt.ylabel('Rata-rata Jumlah Sepeda')\n",
        "plt.show()"
      ],
      "metadata": {
        "id": "ziFExHqGQCM9"
      },
      "execution_count": null,
      "outputs": []
    },
    {
      "cell_type": "markdown",
      "metadata": {
        "id": "DgHI7CiU8DC2"
      },
      "source": [
        "### Pertanyaan 2: Bagaimana kolerasi antara jumlah sepeda sewaan dengan suhu, kelembaban dan kecepatan angin?"
      ]
    },
    {
      "cell_type": "code",
      "execution_count": null,
      "metadata": {
        "id": "Go0lCsvO8DC2"
      },
      "outputs": [],
      "source": [
        "plt.figure(figsize=(10, 6))\n",
        "sns.scatterplot(x='temp', y='cnt', data=day_df)\n",
        "plt.title('Korelasi Suhu vs Jumlah Sewa Sepeda')\n",
        "plt.xlabel('Suhu')\n",
        "plt.ylabel('Jumlah Sepeda')\n",
        "plt.show()"
      ]
    },
    {
      "cell_type": "code",
      "source": [
        "plt.figure(figsize=(10, 6))\n",
        "sns.scatterplot(x='hum', y='cnt', data=day_df)\n",
        "plt.title('Korelasi Kelembaban vs Jumlah Sewa Sepeda')\n",
        "plt.xlabel('Kelembaban')\n",
        "plt.ylabel('Jumlah Sepeda')\n",
        "plt.show()"
      ],
      "metadata": {
        "id": "QL4YPYlhcgAK"
      },
      "execution_count": null,
      "outputs": []
    },
    {
      "cell_type": "code",
      "source": [
        "plt.figure(figsize=(10, 6))\n",
        "sns.scatterplot(x='windspeed', y='cnt', data=day_df)\n",
        "plt.title('Korelasi Kecepatan Angin vs Jumlah Sewa Sepeda')\n",
        "plt.xlabel('Kecepatan Angin')\n",
        "plt.ylabel('Jumlah Sepeda')\n",
        "plt.show()"
      ],
      "metadata": {
        "id": "LuHBGgQVc36c"
      },
      "execution_count": null,
      "outputs": []
    },
    {
      "cell_type": "markdown",
      "metadata": {
        "id": "_WeHlCeX8DC2"
      },
      "source": [
        "## Conclusion"
      ]
    },
    {
      "cell_type": "markdown",
      "metadata": {
        "id": "ZTcyR48Y8DC2"
      },
      "source": [
        "- Conclution pertanyaan 1\n",
        "\n",
        "Bila ditinjau dari musim (season), permintaan jumlah sewa sepeda mengalami peningkatan yang signifikan pada musim gugur (fall) dan mengalami penurunan pada  musim semi (springer).Bila ditinjau dari cuaca(weathersit), permintaan jumlah sewa sepeda mengalami peningkatan yang signifikan pada cuaca (clear, few clouds, partly cloudy, partly cloudy) dan mengalami penurunan pada cuaca (light snow, light rain + thunderstorm + scattered clouds, light rain + scattered clouds). Bila ditinjau dari 10 sampel suhu(temp), permintaan jumlah sewa sepeda mengalami peningkatan yang signifikan pada suhu 0,667 dan mengalami penurunan pada shuhu 0,182. Bila ditinjau dari 10 sampel suhu terasa(atemp),  permintaan jumlah sewa sepeda mengalami peningkatan yang signifikan pada suhu 0,70 dan mengalami penurunan pada suhu 0,39.\n",
        "\n",
        "\n",
        "- Conclution pertanyaan 2\n",
        "\n",
        "Korelasi antara jumlah sewa sepeda dan suhu menunjukkan pola linear positif, yang berarti semakin tinggi suhu, semakin tinggi jumlah sepeda yang disewa. Ini bisa diartikan bahwa cuaca yang lebih hangat cenderung meningkatkan minat orang untuk menggunakan sepeda.\n",
        "Korelasi antara jumlah sewa sepeda dan kelembaban menunjukkan pola negatif cenderung lemah yang berarti semakin tinggi kelembaban, semakin rendah jumlah sepeda yang disewa.\n",
        "Korelasi antara jumlah sewa sepeda dan kecepatan angin menunjukkan pola negatif lemah yang berarti  semakin tinggi kecepatan angin, semakin rendah jumlah sepeda yang disewa.\n"
      ]
    }
  ],
  "metadata": {
    "kernelspec": {
      "display_name": "Python 3",
      "language": "python",
      "name": "python3"
    },
    "language_info": {
      "name": "python",
      "version": "3.8.0 (tags/v3.8.0:fa919fd, Oct 14 2019, 19:21:23) [MSC v.1916 32 bit (Intel)]"
    },
    "orig_nbformat": 4,
    "vscode": {
      "interpreter": {
        "hash": "972b3bf27e332e87b5379f2791f6ef9dfc79c71018c370b0d7423235e20fe4d7"
      }
    },
    "colab": {
      "provenance": []
    }
  },
  "nbformat": 4,
  "nbformat_minor": 0
}